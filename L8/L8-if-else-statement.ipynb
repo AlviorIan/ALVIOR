{
 "cells": [
  {
   "cell_type": "markdown",
   "id": "21cf5644",
   "metadata": {},
   "source": [
    "# if-else Statement <hr style = \"border:10px solid#FFFFFF\"></hr>"
   ]
  },
  {
   "cell_type": "markdown",
   "id": "f2e98d48",
   "metadata": {},
   "source": [
    "Data Analyst: Ian Patrick M. Alvior <br> Department: Electrical Engineering"
   ]
  },
  {
   "cell_type": "markdown",
   "id": "2bc4a8b6",
   "metadata": {},
   "source": [
    "# if statement"
   ]
  },
  {
   "cell_type": "code",
   "execution_count": 2,
   "id": "0f274811",
   "metadata": {},
   "outputs": [
    {
     "name": "stdout",
     "output_type": "stream",
     "text": [
      "PASSED!\n"
     ]
    }
   ],
   "source": [
    "# passing score is 5.0\n",
    "grade = 7.3\n",
    "\n",
    "if grade >= 5.0:\n",
    "    print(\"PASSED!\")"
   ]
  },
  {
   "cell_type": "code",
   "execution_count": 3,
   "id": "4f2c040f",
   "metadata": {},
   "outputs": [
    {
     "name": "stdout",
     "output_type": "stream",
     "text": [
      "FAILED!\n"
     ]
    }
   ],
   "source": [
    "# two if statements are evaluated\n",
    "grade = 4.5\n",
    "\n",
    "# evaluate grade\n",
    "if grade >=5.0:\n",
    "    print(\"PASSED!\")\n",
    "if grade < 5.0 :\n",
    "    print (\"FAILED!\")"
   ]
  },
  {
   "cell_type": "markdown",
   "id": "6e66d4eb",
   "metadata": {},
   "source": [
    "# if-else statement"
   ]
  },
  {
   "cell_type": "code",
   "execution_count": 5,
   "id": "9779f303",
   "metadata": {},
   "outputs": [
    {
     "name": "stdout",
     "output_type": "stream",
     "text": [
      "FAILED!\n"
     ]
    }
   ],
   "source": [
    "# if grade >= 5.0 is True, else will not be evaluated\n",
    "grade = 4.0\n",
    "\n",
    "# evaluate grade\n",
    "if grade >= 5.0:\n",
    "    print(\"PASSED!\")\n",
    "else:\n",
    "    print(\"FAILED!\")"
   ]
  },
  {
   "cell_type": "markdown",
   "id": "d019dfbc",
   "metadata": {},
   "source": [
    "# if-elif-else statement"
   ]
  },
  {
   "cell_type": "code",
   "execution_count": 7,
   "id": "0ab4bd76",
   "metadata": {},
   "outputs": [
    {
     "name": "stdout",
     "output_type": "stream",
     "text": [
      "FAILED!\n"
     ]
    }
   ],
   "source": [
    "# if grade >= 5.0 is True, other conditions will not be evaluated\n",
    "grade = 2.9\n",
    "\n",
    "# evaluate grade\n",
    "if grade >= 5.0:\n",
    "    print(\"PASSED!\")\n",
    "elif grade < 5.0: # < 5.0 evaluated first\n",
    "    print(\"FAILED!\")\n",
    "elif grade < 3.0:\n",
    "    print(\"DISMISSED!\")\n",
    "else:\n",
    "    print(\"INVALID!\")"
   ]
  }
 ],
 "metadata": {
  "kernelspec": {
   "display_name": "Python 3",
   "language": "python",
   "name": "python3"
  },
  "language_info": {
   "codemirror_mode": {
    "name": "ipython",
    "version": 3
   },
   "file_extension": ".py",
   "mimetype": "text/x-python",
   "name": "python",
   "nbconvert_exporter": "python",
   "pygments_lexer": "ipython3",
   "version": "3.13.2"
  }
 },
 "nbformat": 4,
 "nbformat_minor": 5
}
