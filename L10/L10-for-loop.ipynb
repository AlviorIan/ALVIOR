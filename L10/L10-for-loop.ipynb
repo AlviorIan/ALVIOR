{
 "cells": [
  {
   "cell_type": "markdown",
   "id": "b57b51b5",
   "metadata": {},
   "source": [
    "# for Loop <hr style = \"border:10px solid#FFFFF123\"></hr>"
   ]
  },
  {
   "cell_type": "markdown",
   "id": "d49217e5",
   "metadata": {},
   "source": [
    "Data Analyst: Ian Patrick M. Alvior <br> Department: Electrical Engineering"
   ]
  },
  {
   "cell_type": "markdown",
   "id": "99e6c4fa",
   "metadata": {},
   "source": [
    "# Iterating Over a List"
   ]
  },
  {
   "cell_type": "code",
   "execution_count": 1,
   "id": "79c8c328",
   "metadata": {},
   "outputs": [
    {
     "name": "stdout",
     "output_type": "stream",
     "text": [
      "banana\n",
      "babana\n",
      "grapes\n"
     ]
    }
   ],
   "source": [
    "# at idex 0, i = \"apple\"\n",
    "fruits = [\"banana\", \"babana\", \"grapes\"]\n",
    "\n",
    "for i in fruits:\n",
    "    print(i)"
   ]
  },
  {
   "cell_type": "code",
   "execution_count": 2,
   "id": "fef0073a",
   "metadata": {},
   "outputs": [
    {
     "name": "stdout",
     "output_type": "stream",
     "text": [
      "10\n",
      "2\n",
      "3\n",
      "4\n",
      "5\n",
      "6\n",
      "7\n",
      "8\n",
      "9\n",
      "20\n"
     ]
    }
   ],
   "source": [
    "# at idex 0, n = 1\n",
    "numbers = [10,2,3,4,5,6,7,8,9,20]\n",
    "\n",
    "for n in numbers:\n",
    "    print(n)"
   ]
  },
  {
   "cell_type": "code",
   "execution_count": 4,
   "id": "1d4ea1c3",
   "metadata": {},
   "outputs": [
    {
     "name": "stdout",
     "output_type": "stream",
     "text": [
      "0\n",
      "2\n",
      "4\n",
      "6\n",
      "8\n",
      "10\n",
      "12\n",
      "14\n"
     ]
    }
   ],
   "source": [
    "# start at 1, ends at 15 (exclusive), steps by 2\n",
    "\n",
    "for j in range(0,15,2):\n",
    "    print(j)"
   ]
  },
  {
   "cell_type": "markdown",
   "id": "adc7b35d",
   "metadata": {},
   "source": [
    "# Iterating Over a Dictionary"
   ]
  },
  {
   "cell_type": "code",
   "execution_count": 5,
   "id": "d9fe833f",
   "metadata": {},
   "outputs": [
    {
     "name": "stdout",
     "output_type": "stream",
     "text": [
      "P\n",
      "o\n",
      "k\n",
      "e\n",
      "m\n",
      "o\n",
      "n\n"
     ]
    }
   ],
   "source": [
    "# at idex 0, char = 'P'\n",
    "\n",
    "for char in \"Pokemon\":\n",
    "    print(char)"
   ]
  },
  {
   "cell_type": "code",
   "execution_count": 9,
   "id": "72c3d040",
   "metadata": {},
   "outputs": [
    {
     "name": "stdout",
     "output_type": "stream",
     "text": [
      "name\n",
      "position\n",
      "Salary\n",
      "Ian\n",
      "Electrical Engineer\n",
      "12000\n"
     ]
    }
   ],
   "source": [
    "employee = {\"name\":\"Ian\",\n",
    "            \"position\":\"Electrical Engineer\",\n",
    "            \"Salary\": 12000}\n",
    "\n",
    "# starts at key = \"name\"\n",
    "for key in employee:\n",
    "    print(key)\n",
    "\n",
    "# starts at value = \"Ian\"\n",
    "for value in employee.values():\n",
    "    print(value)"
   ]
  }
 ],
 "metadata": {
  "kernelspec": {
   "display_name": "Python 3",
   "language": "python",
   "name": "python3"
  },
  "language_info": {
   "codemirror_mode": {
    "name": "ipython",
    "version": 3
   },
   "file_extension": ".py",
   "mimetype": "text/x-python",
   "name": "python",
   "nbconvert_exporter": "python",
   "pygments_lexer": "ipython3",
   "version": "3.13.2"
  }
 },
 "nbformat": 4,
 "nbformat_minor": 5
}
