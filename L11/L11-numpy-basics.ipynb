{
 "cells": [
  {
   "cell_type": "markdown",
   "id": "6d3e0c70",
   "metadata": {},
   "source": [
    "# NumPy Basics <hr style = \"border:10px solid#12345678\">"
   ]
  },
  {
   "cell_type": "markdown",
   "id": "0769af56",
   "metadata": {},
   "source": [
    "Data Analyst: Ian Patrick M. Alvior <br> Department: Electrical Engineering"
   ]
  },
  {
   "cell_type": "markdown",
   "id": "f14fc247",
   "metadata": {},
   "source": [
    "Install and update NumPy"
   ]
  },
  {
   "cell_type": "code",
   "execution_count": 2,
   "id": "a18146fe",
   "metadata": {},
   "outputs": [],
   "source": [
    "#%pip install numpy --upgrade"
   ]
  },
  {
   "cell_type": "code",
   "execution_count": 4,
   "id": "0352432c",
   "metadata": {},
   "outputs": [
    {
     "name": "stdout",
     "output_type": "stream",
     "text": [
      "Requirement already satisfied: numpy in c:\\users\\admin\\appdata\\local\\programs\\python\\python313\\lib\\site-packages (2.2.5)\n",
      "Note: you may need to restart the kernel to use updated packages.\n"
     ]
    }
   ],
   "source": [
    "pip install numpy"
   ]
  },
  {
   "cell_type": "code",
   "execution_count": 5,
   "id": "25c8cf5e",
   "metadata": {},
   "outputs": [
    {
     "name": "stdout",
     "output_type": "stream",
     "text": [
      "Requirement already satisfied: pip in c:\\users\\admin\\appdata\\local\\programs\\python\\python313\\lib\\site-packages (25.1)\n",
      "Note: you may need to restart the kernel to use updated packages.\n"
     ]
    }
   ],
   "source": [
    "pip install --upgrade pip"
   ]
  },
  {
   "cell_type": "markdown",
   "id": "51fb937a",
   "metadata": {},
   "source": [
    "Install and update scipy"
   ]
  },
  {
   "cell_type": "code",
   "execution_count": 4,
   "id": "61781d8d",
   "metadata": {},
   "outputs": [],
   "source": [
    "#%pip install scipy --upgrade"
   ]
  },
  {
   "cell_type": "code",
   "execution_count": 3,
   "id": "3707b100",
   "metadata": {},
   "outputs": [
    {
     "name": "stdout",
     "output_type": "stream",
     "text": [
      "Requirement already satisfied: scipy in c:\\users\\admin\\appdata\\local\\programs\\python\\python313\\lib\\site-packages (1.15.2)\n",
      "Requirement already satisfied: numpy<2.5,>=1.23.5 in c:\\users\\admin\\appdata\\local\\programs\\python\\python313\\lib\\site-packages (from scipy) (2.2.5)\n",
      "Note: you may need to restart the kernel to use updated packages.\n"
     ]
    }
   ],
   "source": [
    "pip install scipy"
   ]
  },
  {
   "cell_type": "code",
   "execution_count": 2,
   "id": "d5ffaed7",
   "metadata": {},
   "outputs": [],
   "source": [
    "# imports and packages\n",
    "import numpy as np\n",
    "from scipy import stats"
   ]
  },
  {
   "cell_type": "markdown",
   "id": "4b9268dd",
   "metadata": {},
   "source": [
    "# 1D Array"
   ]
  },
  {
   "cell_type": "code",
   "execution_count": 7,
   "id": "2813975a",
   "metadata": {},
   "outputs": [
    {
     "data": {
      "text/plain": [
       "array([1, 2, 3])"
      ]
     },
     "execution_count": 7,
     "metadata": {},
     "output_type": "execute_result"
    }
   ],
   "source": [
    "# 1-dimensional array\n",
    "array_a = np.array([1,2,3])\n",
    "array_a"
   ]
  },
  {
   "cell_type": "code",
   "execution_count": 8,
   "id": "d2dab7e1",
   "metadata": {},
   "outputs": [
    {
     "data": {
      "text/plain": [
       "(3,)"
      ]
     },
     "execution_count": 8,
     "metadata": {},
     "output_type": "execute_result"
    }
   ],
   "source": [
    "# size of an array\n",
    "np.shape(array_a)\n"
   ]
  },
  {
   "cell_type": "code",
   "execution_count": 9,
   "id": "cb826b73",
   "metadata": {},
   "outputs": [
    {
     "data": {
      "text/plain": [
       "array([4, 5, 6])"
      ]
     },
     "execution_count": 9,
     "metadata": {},
     "output_type": "execute_result"
    }
   ],
   "source": [
    "# 1-dimensional array\n",
    "array_b = np.array([4,5,6])\n",
    "array_b"
   ]
  },
  {
   "cell_type": "markdown",
   "id": "1398cebd",
   "metadata": {},
   "source": [
    "# 2D Array"
   ]
  },
  {
   "cell_type": "code",
   "execution_count": 10,
   "id": "434de73b",
   "metadata": {},
   "outputs": [
    {
     "data": {
      "text/plain": [
       "array([[1, 2, 3],\n",
       "       [4, 5, 6]])"
      ]
     },
     "execution_count": 10,
     "metadata": {},
     "output_type": "execute_result"
    }
   ],
   "source": [
    "# 2-dimensional array\n",
    "my_array = np.array([[1,2,3],[4,5,6]])\n",
    "my_array"
   ]
  },
  {
   "cell_type": "code",
   "execution_count": 11,
   "id": "17d4e838",
   "metadata": {},
   "outputs": [
    {
     "data": {
      "text/plain": [
       "(2, 3)"
      ]
     },
     "execution_count": 11,
     "metadata": {},
     "output_type": "execute_result"
    }
   ],
   "source": [
    "# size of matrix\n",
    "np.shape(my_array)"
   ]
  },
  {
   "cell_type": "code",
   "execution_count": 12,
   "id": "731d0cbd",
   "metadata": {},
   "outputs": [
    {
     "data": {
      "text/plain": [
       "array([[1, 4],\n",
       "       [2, 5],\n",
       "       [3, 6]])"
      ]
     },
     "execution_count": 12,
     "metadata": {},
     "output_type": "execute_result"
    }
   ],
   "source": [
    "# transpose of a matrix\n",
    "t_array = my_array.T\n",
    "t_array"
   ]
  },
  {
   "cell_type": "code",
   "execution_count": 13,
   "id": "71554d19",
   "metadata": {},
   "outputs": [
    {
     "data": {
      "text/plain": [
       "(3, 2)"
      ]
     },
     "execution_count": 13,
     "metadata": {},
     "output_type": "execute_result"
    }
   ],
   "source": [
    "# size of matrix\n",
    "np.shape(t_array)"
   ]
  },
  {
   "cell_type": "markdown",
   "id": "ccca2c3b",
   "metadata": {},
   "source": [
    "# Measures of Central Tendency"
   ]
  },
  {
   "cell_type": "markdown",
   "id": "bb008e61",
   "metadata": {},
   "source": [
    "Fruit Price List"
   ]
  },
  {
   "cell_type": "code",
   "execution_count": 14,
   "id": "0aa25fd4",
   "metadata": {},
   "outputs": [
    {
     "data": {
      "text/plain": [
       "array([120,  60,  85, 150, 200])"
      ]
     },
     "execution_count": 14,
     "metadata": {},
     "output_type": "execute_result"
    }
   ],
   "source": [
    "# fruit price list dataset\n",
    "fruits = np.array([120,60,85,150,200])\n",
    "fruits"
   ]
  },
  {
   "cell_type": "code",
   "execution_count": 15,
   "id": "75193196",
   "metadata": {},
   "outputs": [
    {
     "data": {
      "text/plain": [
       "np.float64(123.0)"
      ]
     },
     "execution_count": 15,
     "metadata": {},
     "output_type": "execute_result"
    }
   ],
   "source": [
    "# mean\n",
    "fruits_mean = np.mean(fruits)\n",
    "fruits_mean"
   ]
  },
  {
   "cell_type": "code",
   "execution_count": 16,
   "id": "83e2f802",
   "metadata": {},
   "outputs": [
    {
     "data": {
      "text/plain": [
       "np.float64(120.0)"
      ]
     },
     "execution_count": 16,
     "metadata": {},
     "output_type": "execute_result"
    }
   ],
   "source": [
    "# median\n",
    "fruits_median = np.median(fruits)\n",
    "fruits_median"
   ]
  },
  {
   "cell_type": "code",
   "execution_count": 17,
   "id": "83db3c4f",
   "metadata": {},
   "outputs": [
    {
     "data": {
      "text/plain": [
       "array([ 60,  85, 120, 150, 200])"
      ]
     },
     "execution_count": 17,
     "metadata": {},
     "output_type": "execute_result"
    }
   ],
   "source": [
    "# sort\n",
    "fruits_sorted = np.sort(fruits)\n",
    "fruits_sorted"
   ]
  },
  {
   "cell_type": "code",
   "execution_count": 4,
   "id": "20a20d55",
   "metadata": {},
   "outputs": [
    {
     "data": {
      "text/plain": [
       "ModeResult(mode=np.int64(60), count=np.int64(1))"
      ]
     },
     "execution_count": 4,
     "metadata": {},
     "output_type": "execute_result"
    }
   ],
   "source": [
    "# mode\n",
    "fruits_mode = stats.mode(fruits)\n",
    "fruits_mode"
   ]
  },
  {
   "cell_type": "code",
   "execution_count": 19,
   "id": "d1921c6e",
   "metadata": {},
   "outputs": [
    {
     "data": {
      "text/plain": [
       "np.float64(49.15282290977803)"
      ]
     },
     "execution_count": 19,
     "metadata": {},
     "output_type": "execute_result"
    }
   ],
   "source": [
    "# population standard deviation\n",
    "fruits_std = np.std(fruits)\n",
    "fruits_std"
   ]
  },
  {
   "cell_type": "markdown",
   "id": "8345134c",
   "metadata": {},
   "source": [
    "Voltage Response"
   ]
  },
  {
   "cell_type": "code",
   "execution_count": 20,
   "id": "4a626fb2",
   "metadata": {},
   "outputs": [
    {
     "data": {
      "text/plain": [
       "array([[ 1. ,  2. ,  3. ,  4. ,  5. ,  6. ,  7. ,  8. ],\n",
       "       [12. ,  5. ,  9.2,  3.3, 24. , 18.9, 15.4,  nan],\n",
       "       [ 2.5,  4.3,  6. ,  9. , 11.2, 14.5, 17.8, 20. ]])"
      ]
     },
     "execution_count": 20,
     "metadata": {},
     "output_type": "execute_result"
    }
   ],
   "source": [
    "# voltage response dataset\n",
    "voltage = np.array([\n",
    "    [1,2,3,4,5,6,7,8],\n",
    "    [12,5,9.2,3.3,24,18.9,15.4,np.nan],\n",
    "    [2.5,4.3,6,9,11.2,14.5,17.8,20]\n",
    "])\n",
    "voltage"
   ]
  },
  {
   "cell_type": "markdown",
   "id": "7e0eb0aa",
   "metadata": {},
   "source": [
    "# Measures of Variability"
   ]
  },
  {
   "cell_type": "markdown",
   "id": "917b8981",
   "metadata": {},
   "source": [
    "Exam Performance"
   ]
  },
  {
   "cell_type": "code",
   "execution_count": 21,
   "id": "9aeb6e8d",
   "metadata": {},
   "outputs": [
    {
     "data": {
      "text/plain": [
       "array([9.8, 9.4, 9.1, 8.9, 8.8, 8.5, 8.2, 7.8, 7.4, 7. , 6.7, 3.5])"
      ]
     },
     "execution_count": 21,
     "metadata": {},
     "output_type": "execute_result"
    }
   ],
   "source": [
    "# exam performance dataset\n",
    "grade = np.array([9.8,9.4,9.1,8.9,8.8,8.5,8.2,7.8,7.4,7,6.7,3.5])\n",
    "grade"
   ]
  },
  {
   "cell_type": "markdown",
   "id": "33603342",
   "metadata": {},
   "source": [
    "Cake Price List"
   ]
  },
  {
   "cell_type": "code",
   "execution_count": 22,
   "id": "0b63bc8b",
   "metadata": {},
   "outputs": [
    {
     "data": {
      "text/plain": [
       "array([[  3.3 ,  12.  ,   5.3 ,  11.2 ,  10.2 ,   4.5 ,   6.2 ,   6.4 ,\n",
       "          8.  ,   9.84],\n",
       "       [120.  , 420.  , 163.3 ,  72.3 , 157.  ,  64.2 ,  99.  , 100.  ,\n",
       "        125.  , 120.2 ]])"
      ]
     },
     "execution_count": 22,
     "metadata": {},
     "output_type": "execute_result"
    }
   ],
   "source": [
    "# cake price list dataset\n",
    "price = np.array([\n",
    "    [3.3,12,5.3,11.2,10.2,4.5,6.2,6.4,8,9.84],\n",
    "    [120,420,163.3,72.3,157,64.2,99,100,125,120.2]\n",
    "])\n",
    "price"
   ]
  },
  {
   "cell_type": "markdown",
   "id": "d8f7f317",
   "metadata": {},
   "source": [
    "Pooled Standard Deviation"
   ]
  },
  {
   "cell_type": "code",
   "execution_count": 23,
   "id": "e6bd5f15",
   "metadata": {},
   "outputs": [
    {
     "data": {
      "text/plain": [
       "array([['A', 'A', 'A', 'A', 'A', 'B', 'B', 'B', 'B', 'B', 'C', 'C', 'C',\n",
       "        'C', 'C'],\n",
       "       ['12.1', '12.2', '12.3', '12.4', '12.5', '12.6', '12.7', '12.8',\n",
       "        '12.9', '11', '11.1', '11.2', '11.3', '11.4', '11.5']],\n",
       "      dtype='<U32')"
      ]
     },
     "execution_count": 23,
     "metadata": {},
     "output_type": "execute_result"
    }
   ],
   "source": [
    "# battery life dataset\n",
    "battery = np.array([\n",
    "    ['A','A','A','A','A','B','B','B','B','B','C','C','C','C','C'],\n",
    "    [12.1,12.2,12.3,12.4,12.5,12.6,12.7,12.8,12.9,11,11.1,11.2,11.3,11.4,11.5]\n",
    "])\n",
    "battery"
   ]
  },
  {
   "cell_type": "markdown",
   "id": "b104ca75",
   "metadata": {},
   "source": [
    "# Assignment"
   ]
  },
  {
   "cell_type": "markdown",
   "id": "2e5ada93",
   "metadata": {},
   "source": [
    "Jaguar Measures of Central Tendency"
   ]
  },
  {
   "cell_type": "code",
   "execution_count": 8,
   "id": "0a1fabaf",
   "metadata": {},
   "outputs": [
    {
     "data": {
      "text/plain": [
       "array([10.6,  9.1,  9.3,  9.8, 10.5, 10.4,  9.5, 11. , 10.4,  3. ,  9.8])"
      ]
     },
     "execution_count": 8,
     "metadata": {},
     "output_type": "execute_result"
    }
   ],
   "source": [
    "jaguar = np.array([10.6,9.1,9.3,9.8,10.5,10.4,9.5,11,10.4,3,9.8])\n",
    "jaguar"
   ]
  },
  {
   "cell_type": "code",
   "execution_count": 9,
   "id": "9c286bdc",
   "metadata": {},
   "outputs": [
    {
     "data": {
      "text/plain": [
       "np.float64(9.399999999999999)"
      ]
     },
     "execution_count": 9,
     "metadata": {},
     "output_type": "execute_result"
    }
   ],
   "source": [
    "jaguar_mean = np.mean(jaguar)\n",
    "jaguar_mean"
   ]
  },
  {
   "cell_type": "code",
   "execution_count": 23,
   "id": "26f9fadd",
   "metadata": {},
   "outputs": [
    {
     "data": {
      "text/plain": [
       "np.float64(9.8)"
      ]
     },
     "execution_count": 23,
     "metadata": {},
     "output_type": "execute_result"
    }
   ],
   "source": [
    "jaguar_median = np.median(jaguar)\n",
    "jaguar_median"
   ]
  },
  {
   "cell_type": "code",
   "execution_count": 10,
   "id": "f20aec22",
   "metadata": {},
   "outputs": [
    {
     "data": {
      "text/plain": [
       "ModeResult(mode=np.float64(9.8), count=np.int64(2))"
      ]
     },
     "execution_count": 10,
     "metadata": {},
     "output_type": "execute_result"
    }
   ],
   "source": [
    "jaguar_mode = stats.mode(jaguar)\n",
    "jaguar_mode"
   ]
  },
  {
   "cell_type": "code",
   "execution_count": 12,
   "id": "4b00ce7b",
   "metadata": {},
   "outputs": [
    {
     "data": {
      "text/plain": [
       "np.float64(2.101947149236112)"
      ]
     },
     "execution_count": 12,
     "metadata": {},
     "output_type": "execute_result"
    }
   ],
   "source": [
    "jaguar_std = np.std(jaguar)\n",
    "jaguar_std"
   ]
  },
  {
   "cell_type": "code",
   "execution_count": 14,
   "id": "bc5efd9e",
   "metadata": {},
   "outputs": [
    {
     "data": {
      "text/plain": [
       "array([ 3. ,  9.1,  9.3,  9.5,  9.8,  9.8, 10.4, 10.4, 10.5, 10.6, 11. ])"
      ]
     },
     "execution_count": 14,
     "metadata": {},
     "output_type": "execute_result"
    }
   ],
   "source": [
    "jaguar_sorted = np.sort(jaguar)\n",
    "jaguar_sorted"
   ]
  },
  {
   "cell_type": "markdown",
   "id": "ef524dc8",
   "metadata": {},
   "source": [
    "Panther Measures of Central Tendency"
   ]
  },
  {
   "cell_type": "code",
   "execution_count": 13,
   "id": "0f5ec800",
   "metadata": {},
   "outputs": [
    {
     "data": {
      "text/plain": [
       "array([10.1, 11. ,  9.1, 20. ,  9.2, 10.8,  9.9,  9.2,  9.1,  9.1])"
      ]
     },
     "execution_count": 13,
     "metadata": {},
     "output_type": "execute_result"
    }
   ],
   "source": [
    "panther = np.array([10.1,11,9.1,20,9.2,10.8,9.9,9.2,9.1,9.1])\n",
    "panther"
   ]
  },
  {
   "cell_type": "code",
   "execution_count": 17,
   "id": "136d357e",
   "metadata": {},
   "outputs": [
    {
     "data": {
      "text/plain": [
       "np.float64(10.75)"
      ]
     },
     "execution_count": 17,
     "metadata": {},
     "output_type": "execute_result"
    }
   ],
   "source": [
    "panther_mean = np.mean(panther)\n",
    "panther_mean"
   ]
  },
  {
   "cell_type": "code",
   "execution_count": 18,
   "id": "bf74a283",
   "metadata": {},
   "outputs": [
    {
     "data": {
      "text/plain": [
       "np.float64(9.55)"
      ]
     },
     "execution_count": 18,
     "metadata": {},
     "output_type": "execute_result"
    }
   ],
   "source": [
    "panther_median = np.median(panther)\n",
    "panther_median"
   ]
  },
  {
   "cell_type": "code",
   "execution_count": 19,
   "id": "f8662fdf",
   "metadata": {},
   "outputs": [
    {
     "data": {
      "text/plain": [
       "ModeResult(mode=np.float64(9.1), count=np.int64(3))"
      ]
     },
     "execution_count": 19,
     "metadata": {},
     "output_type": "execute_result"
    }
   ],
   "source": [
    "panther_mode = stats.mode(panther)\n",
    "panther_mode"
   ]
  },
  {
   "cell_type": "code",
   "execution_count": 21,
   "id": "dd9ede45",
   "metadata": {},
   "outputs": [
    {
     "data": {
      "text/plain": [
       "np.float64(3.1582431825304393)"
      ]
     },
     "execution_count": 21,
     "metadata": {},
     "output_type": "execute_result"
    }
   ],
   "source": [
    "panther_std = np.std(panther)\n",
    "panther_std"
   ]
  },
  {
   "cell_type": "code",
   "execution_count": 22,
   "id": "5133a2d9",
   "metadata": {},
   "outputs": [
    {
     "data": {
      "text/plain": [
       "array([ 9.1,  9.1,  9.1,  9.2,  9.2,  9.9, 10.1, 10.8, 11. , 20. ])"
      ]
     },
     "execution_count": 22,
     "metadata": {},
     "output_type": "execute_result"
    }
   ],
   "source": [
    "panther_sorted = np.sort(panther)\n",
    "panther_sorted"
   ]
  }
 ],
 "metadata": {
  "kernelspec": {
   "display_name": "Python 3",
   "language": "python",
   "name": "python3"
  },
  "language_info": {
   "codemirror_mode": {
    "name": "ipython",
    "version": 3
   },
   "file_extension": ".py",
   "mimetype": "text/x-python",
   "name": "python",
   "nbconvert_exporter": "python",
   "pygments_lexer": "ipython3",
   "version": "3.13.2"
  }
 },
 "nbformat": 4,
 "nbformat_minor": 5
}
